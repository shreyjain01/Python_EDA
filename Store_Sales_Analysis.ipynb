{
  "nbformat": 4,
  "nbformat_minor": 0,
  "metadata": {
    "colab": {
      "provenance": []
    },
    "kernelspec": {
      "name": "python3",
      "display_name": "Python 3"
    },
    "language_info": {
      "name": "python"
    }
  },
  "cells": [
    {
      "cell_type": "markdown",
      "source": [
        "# **Project Name :** Store Sales Analysis\n",
        "### **Name** : Shreyans Jain"
      ],
      "metadata": {
        "id": "Hm3S3GRKp7sp"
      }
    },
    {
      "cell_type": "markdown",
      "source": [
        "### **Project Summary -**\n",
        "\n",
        "The Store Sales Analysis project focuses on analyzing and visualizing sales data from a retail store to gain insights into sales performance, trends, and customer behavior. By examining various aspects of the store's sales data, the project aims to provide actionable insights that can guide business decisions and strategies.\n",
        "\n",
        "### **Project Objectives:**\n",
        "\n",
        "*  Analyze historical sales data to identify trends, patterns, and seasonality.\n",
        "*   Explore sales performance across different products, categories, and time periods.\n",
        "*   Identify high-performing products and low-performing products.\n",
        "*   Visualize sales data using charts and graphs for better understanding.\n",
        "*   Provide recommendations for improving sales, optimizing inventory, and enhancing customer experience.\n",
        "\n",
        "\n",
        "### **Project Steps:**\n",
        "\n",
        "**Data Collection:** Gather sales data from the retail store's records, including information about products, categories, prices, quantities sold, dates, and customer details.\n",
        "\n",
        "**Data Cleaning:** Clean and preprocess the data by handling missing values, duplicates, and inconsistencies. Convert data types as needed for analysis.\n",
        "\n",
        "**Exploratory Data Analysis (EDA):** Perform exploratory analysis to understand the distribution of sales, identify outliers, and explore relationships between variables.\n",
        "\n",
        "**Sales Trends and Patterns:** Analyze sales trends over time (daily, monthly, yearly) to identify any seasonality, spikes, or dips in sales.\n",
        "\n",
        "**Customer Behavior:** Analyze customer purchasing behavior, such as repeat purchases, average transaction values, and customer demographics.\n",
        "\n",
        "**Visualizations:** Create visualizations such as line charts, bar charts, pie charts, and heatmaps to present key findings and insights effectively.\n",
        "\n",
        "**Recommendations:** Based on the analysis, provide actionable recommendations to improve sales, optimize inventory, and enhance customer satisfaction.\n",
        "\n"
      ],
      "metadata": {
        "id": "9cYp3bxMqT3H"
      }
    },
    {
      "cell_type": "markdown",
      "source": [
        "## **Importing Libraries**"
      ],
      "metadata": {
        "id": "DPkZ0u_UHPF1"
      }
    },
    {
      "cell_type": "code",
      "execution_count": 121,
      "metadata": {
        "id": "Vz01SBhpk5_1"
      },
      "outputs": [],
      "source": [
        "# import libraries\n",
        "import pandas as pd\n",
        "import numpy as np\n",
        "import matplotlib.pyplot as plt\n",
        "%matplotlib inline\n",
        "from datetime import datetime\n",
        "import seaborn as sns"
      ]
    },
    {
      "cell_type": "markdown",
      "source": [
        "## **Dataset Loading**\n"
      ],
      "metadata": {
        "id": "gwcnfSSL4yBy"
      }
    },
    {
      "cell_type": "code",
      "source": [
        "# import data\n",
        "from google.colab import drive\n",
        "drive.mount('/content/drive')\n",
        "\n",
        "df = pd.read_csv(\"/content/drive/MyDrive/DS/Project/Vrinda Store Data Analysis.csv\")"
      ],
      "metadata": {
        "colab": {
          "base_uri": "https://localhost:8080/"
        },
        "id": "uXXQ12uD3AYd",
        "outputId": "9cbe574c-90b4-40d8-b1f6-7075227fe49e"
      },
      "execution_count": 335,
      "outputs": [
        {
          "output_type": "stream",
          "name": "stdout",
          "text": [
            "Drive already mounted at /content/drive; to attempt to forcibly remount, call drive.mount(\"/content/drive\", force_remount=True).\n"
          ]
        }
      ]
    },
    {
      "cell_type": "markdown",
      "source": [
        "## **Dataset First View**"
      ],
      "metadata": {
        "id": "uoQsAPFa5DeZ"
      }
    },
    {
      "cell_type": "code",
      "source": [
        "df.sample"
      ],
      "metadata": {
        "colab": {
          "base_uri": "https://localhost:8080/"
        },
        "id": "_rOGkEsq4VWT",
        "outputId": "41b93f9a-6b42-47f0-e332-a499d9d89408"
      },
      "execution_count": 336,
      "outputs": [
        {
          "output_type": "execute_result",
          "data": {
            "text/plain": [
              "<bound method NDFrame.sample of        index             Order ID  Cust ID Gender  Age        Date     Status  \\\n",
              "0          1  171-1029312-3038738  1029312  Women   44  04-12-2022  Delivered   \n",
              "1          2  405-2183842-2225946  2183842  Women   29  04-12-2022  Delivered   \n",
              "2          3  171-1641533-8921966  1641533  Women   67  04-12-2022  Delivered   \n",
              "3          4  404-7490807-6300351  7490807  Women   20  04-12-2022  Delivered   \n",
              "4          5  403-9293516-4577154  9293516  Women   62  04-12-2022  Delivered   \n",
              "...      ...                  ...      ...    ...  ...         ...        ...   \n",
              "31042  31043  405-4724097-1016369  4724097      M   60  06-01-2022  Delivered   \n",
              "31043  31044  405-4724097-1016369  4724097      M   34  06-01-2022  Delivered   \n",
              "31044  31045  408-3572295-5992330  3572295      M   29  06-01-2022  Delivered   \n",
              "31045  31046  405-1423498-9705162  1423498      M   46  06-01-2022  Delivered   \n",
              "31046  31047  408-4694875-8249153  4694875      M   36  06-01-2022  Delivered   \n",
              "\n",
              "       Channel                       SKU       Category Size  Qty currency  \\\n",
              "0        Myntra  JNE1233-BLUE-KR-031-XXL          kurta  XXL    1      INR   \n",
              "1          Ajio           SET414-KR-NP-L            Set    L    1      INR   \n",
              "2        Myntra           SET261-KR-PP-S            Set    S    1      INR   \n",
              "3        Amazon           SET110-KR-PP-M            Set    M    1      INR   \n",
              "4        Myntra         JNE2294-KR-A-XXL          kurta  XXL    1      INR   \n",
              "...         ...                      ...            ...  ...  ...      ...   \n",
              "31042  Flipkart              J0083-KR-XL          kurta   XL  One      INR   \n",
              "31043    Myntra              J0010-LCD-S            Set    S  One      INR   \n",
              "31044    Amazon           SET398-KR-PP-L            Set    L  One      INR   \n",
              "31045    Amazon             JNE3568-KR-M          kurta    M  One      INR   \n",
              "31046  Flipkart            J0341-DR-XXXL  Western Dress  3XL  One      INR   \n",
              "\n",
              "       Amount    ship-city   ship-state  ship-postal-code ship-country    B2B  \n",
              "0         376       MOHALI       PUNJAB            140301           IN  False  \n",
              "1        1449     GURUGRAM      HARYANA            122002           IN  False  \n",
              "2         453      KOLKATA  WEST BENGAL            700029           IN  False  \n",
              "3         729    THANJAVUR   TAMIL NADU            613007           IN  False  \n",
              "4         544     GURUGRAM      HARYANA            122001           IN  False  \n",
              "...       ...          ...          ...               ...          ...    ...  \n",
              "31042     565         PUNE  MAHARASHTRA            412307           IN  False  \n",
              "31043     939    BENGALURU    KARNATAKA            560061           IN  False  \n",
              "31044    1115  PITHORAGARH  UTTARAKHAND            262501           IN  False  \n",
              "31045     399        DHULE  MAHARASHTRA            424006           IN  False  \n",
              "31046     791     WARANGAL    TELANGANA            506001           IN  False  \n",
              "\n",
              "[31047 rows x 19 columns]>"
            ]
          },
          "metadata": {},
          "execution_count": 336
        }
      ]
    },
    {
      "cell_type": "markdown",
      "source": [
        "**Dataset Rows & Columns count**\n"
      ],
      "metadata": {
        "id": "WW3kUOJK5Vgy"
      }
    },
    {
      "cell_type": "code",
      "source": [
        "df.shape"
      ],
      "metadata": {
        "colab": {
          "base_uri": "https://localhost:8080/"
        },
        "id": "S4d4E4b_5fMB",
        "outputId": "fea9eba1-3f91-4688-8d2b-a6bace390360"
      },
      "execution_count": 337,
      "outputs": [
        {
          "output_type": "execute_result",
          "data": {
            "text/plain": [
              "(31047, 19)"
            ]
          },
          "metadata": {},
          "execution_count": 337
        }
      ]
    },
    {
      "cell_type": "markdown",
      "source": [
        "**Dataset Information**"
      ],
      "metadata": {
        "id": "ms9ac_od5jMh"
      }
    },
    {
      "cell_type": "code",
      "source": [
        "df.info()"
      ],
      "metadata": {
        "colab": {
          "base_uri": "https://localhost:8080/"
        },
        "id": "nTd6E9rT5miB",
        "outputId": "309266e9-931b-46fd-cb64-270f48fb5d6c"
      },
      "execution_count": 338,
      "outputs": [
        {
          "output_type": "stream",
          "name": "stdout",
          "text": [
            "<class 'pandas.core.frame.DataFrame'>\n",
            "RangeIndex: 31047 entries, 0 to 31046\n",
            "Data columns (total 19 columns):\n",
            " #   Column            Non-Null Count  Dtype \n",
            "---  ------            --------------  ----- \n",
            " 0   index             31047 non-null  int64 \n",
            " 1   Order ID          31047 non-null  object\n",
            " 2   Cust ID           31047 non-null  int64 \n",
            " 3   Gender            31047 non-null  object\n",
            " 4   Age               31047 non-null  int64 \n",
            " 5   Date              31047 non-null  object\n",
            " 6   Status            31047 non-null  object\n",
            " 7   Channel           31047 non-null  object\n",
            " 8   SKU               31047 non-null  object\n",
            " 9   Category          31047 non-null  object\n",
            " 10  Size              31047 non-null  object\n",
            " 11  Qty               31047 non-null  object\n",
            " 12  currency          31047 non-null  object\n",
            " 13  Amount            31047 non-null  int64 \n",
            " 14  ship-city         31047 non-null  object\n",
            " 15  ship-state        31047 non-null  object\n",
            " 16  ship-postal-code  31047 non-null  int64 \n",
            " 17  ship-country      31047 non-null  object\n",
            " 18  B2B               31047 non-null  bool  \n",
            "dtypes: bool(1), int64(5), object(13)\n",
            "memory usage: 4.3+ MB\n"
          ]
        }
      ]
    },
    {
      "cell_type": "markdown",
      "source": [
        "## **Understanding the variable**"
      ],
      "metadata": {
        "id": "qFUzs0RwCfUX"
      }
    },
    {
      "cell_type": "code",
      "source": [
        "df.columns"
      ],
      "metadata": {
        "colab": {
          "base_uri": "https://localhost:8080/"
        },
        "id": "XWFpb92oBT3B",
        "outputId": "3ba7997a-03ac-42cd-ec77-bd366dd5b1a9"
      },
      "execution_count": 65,
      "outputs": [
        {
          "output_type": "execute_result",
          "data": {
            "text/plain": [
              "Index(['index', 'Order ID', 'Cust ID', 'Gender', 'Age', 'Date', 'Status',\n",
              "       'Channel ', 'SKU', 'Category', 'Size', 'Qty', 'currency', 'Amount',\n",
              "       'ship-city', 'ship-state', 'ship-postal-code', 'ship-country', 'B2B'],\n",
              "      dtype='object')"
            ]
          },
          "metadata": {},
          "execution_count": 65
        }
      ]
    },
    {
      "cell_type": "code",
      "source": [
        "df.describe()"
      ],
      "metadata": {
        "colab": {
          "base_uri": "https://localhost:8080/",
          "height": 300
        },
        "id": "HN7lmEhECjJf",
        "outputId": "79804405-e1d3-42b1-8e2d-ac59fb6689cb"
      },
      "execution_count": 66,
      "outputs": [
        {
          "output_type": "execute_result",
          "data": {
            "text/plain": [
              "             index       Cust ID           Age        Amount  ship-postal-code\n",
              "count  31047.00000  3.104700e+04  31047.000000  31047.000000      31047.000000\n",
              "mean   15524.00000  4.936824e+06     39.496570    682.074822     460474.587206\n",
              "std     8962.64124  2.900678e+06     15.117233    268.582173     198116.733009\n",
              "min        1.00000  8.950000e+02     18.000000    229.000000     110001.000000\n",
              "25%     7762.50000  2.416471e+06     28.000000    486.000000     313001.000000\n",
              "50%    15524.00000  4.909885e+06     37.000000    646.000000     500028.000000\n",
              "75%    23285.50000  7.454182e+06     47.000000    794.000000     600040.000000\n",
              "max    31047.00000  9.999233e+06     78.000000   3036.000000     855117.000000"
            ],
            "text/html": [
              "\n",
              "\n",
              "  <div id=\"df-4ef45539-f280-486f-ae7b-c125bb1b5f5f\">\n",
              "    <div class=\"colab-df-container\">\n",
              "      <div>\n",
              "<style scoped>\n",
              "    .dataframe tbody tr th:only-of-type {\n",
              "        vertical-align: middle;\n",
              "    }\n",
              "\n",
              "    .dataframe tbody tr th {\n",
              "        vertical-align: top;\n",
              "    }\n",
              "\n",
              "    .dataframe thead th {\n",
              "        text-align: right;\n",
              "    }\n",
              "</style>\n",
              "<table border=\"1\" class=\"dataframe\">\n",
              "  <thead>\n",
              "    <tr style=\"text-align: right;\">\n",
              "      <th></th>\n",
              "      <th>index</th>\n",
              "      <th>Cust ID</th>\n",
              "      <th>Age</th>\n",
              "      <th>Amount</th>\n",
              "      <th>ship-postal-code</th>\n",
              "    </tr>\n",
              "  </thead>\n",
              "  <tbody>\n",
              "    <tr>\n",
              "      <th>count</th>\n",
              "      <td>31047.00000</td>\n",
              "      <td>3.104700e+04</td>\n",
              "      <td>31047.000000</td>\n",
              "      <td>31047.000000</td>\n",
              "      <td>31047.000000</td>\n",
              "    </tr>\n",
              "    <tr>\n",
              "      <th>mean</th>\n",
              "      <td>15524.00000</td>\n",
              "      <td>4.936824e+06</td>\n",
              "      <td>39.496570</td>\n",
              "      <td>682.074822</td>\n",
              "      <td>460474.587206</td>\n",
              "    </tr>\n",
              "    <tr>\n",
              "      <th>std</th>\n",
              "      <td>8962.64124</td>\n",
              "      <td>2.900678e+06</td>\n",
              "      <td>15.117233</td>\n",
              "      <td>268.582173</td>\n",
              "      <td>198116.733009</td>\n",
              "    </tr>\n",
              "    <tr>\n",
              "      <th>min</th>\n",
              "      <td>1.00000</td>\n",
              "      <td>8.950000e+02</td>\n",
              "      <td>18.000000</td>\n",
              "      <td>229.000000</td>\n",
              "      <td>110001.000000</td>\n",
              "    </tr>\n",
              "    <tr>\n",
              "      <th>25%</th>\n",
              "      <td>7762.50000</td>\n",
              "      <td>2.416471e+06</td>\n",
              "      <td>28.000000</td>\n",
              "      <td>486.000000</td>\n",
              "      <td>313001.000000</td>\n",
              "    </tr>\n",
              "    <tr>\n",
              "      <th>50%</th>\n",
              "      <td>15524.00000</td>\n",
              "      <td>4.909885e+06</td>\n",
              "      <td>37.000000</td>\n",
              "      <td>646.000000</td>\n",
              "      <td>500028.000000</td>\n",
              "    </tr>\n",
              "    <tr>\n",
              "      <th>75%</th>\n",
              "      <td>23285.50000</td>\n",
              "      <td>7.454182e+06</td>\n",
              "      <td>47.000000</td>\n",
              "      <td>794.000000</td>\n",
              "      <td>600040.000000</td>\n",
              "    </tr>\n",
              "    <tr>\n",
              "      <th>max</th>\n",
              "      <td>31047.00000</td>\n",
              "      <td>9.999233e+06</td>\n",
              "      <td>78.000000</td>\n",
              "      <td>3036.000000</td>\n",
              "      <td>855117.000000</td>\n",
              "    </tr>\n",
              "  </tbody>\n",
              "</table>\n",
              "</div>\n",
              "      <button class=\"colab-df-convert\" onclick=\"convertToInteractive('df-4ef45539-f280-486f-ae7b-c125bb1b5f5f')\"\n",
              "              title=\"Convert this dataframe to an interactive table.\"\n",
              "              style=\"display:none;\">\n",
              "\n",
              "  <svg xmlns=\"http://www.w3.org/2000/svg\" height=\"24px\"viewBox=\"0 0 24 24\"\n",
              "       width=\"24px\">\n",
              "    <path d=\"M0 0h24v24H0V0z\" fill=\"none\"/>\n",
              "    <path d=\"M18.56 5.44l.94 2.06.94-2.06 2.06-.94-2.06-.94-.94-2.06-.94 2.06-2.06.94zm-11 1L8.5 8.5l.94-2.06 2.06-.94-2.06-.94L8.5 2.5l-.94 2.06-2.06.94zm10 10l.94 2.06.94-2.06 2.06-.94-2.06-.94-.94-2.06-.94 2.06-2.06.94z\"/><path d=\"M17.41 7.96l-1.37-1.37c-.4-.4-.92-.59-1.43-.59-.52 0-1.04.2-1.43.59L10.3 9.45l-7.72 7.72c-.78.78-.78 2.05 0 2.83L4 21.41c.39.39.9.59 1.41.59.51 0 1.02-.2 1.41-.59l7.78-7.78 2.81-2.81c.8-.78.8-2.07 0-2.86zM5.41 20L4 18.59l7.72-7.72 1.47 1.35L5.41 20z\"/>\n",
              "  </svg>\n",
              "      </button>\n",
              "\n",
              "\n",
              "\n",
              "    <div id=\"df-7d3dfd79-2c30-4ceb-bbaf-abd69bdc1cdb\">\n",
              "      <button class=\"colab-df-quickchart\" onclick=\"quickchart('df-7d3dfd79-2c30-4ceb-bbaf-abd69bdc1cdb')\"\n",
              "              title=\"Suggest charts.\"\n",
              "              style=\"display:none;\">\n",
              "\n",
              "<svg xmlns=\"http://www.w3.org/2000/svg\" height=\"24px\"viewBox=\"0 0 24 24\"\n",
              "     width=\"24px\">\n",
              "    <g>\n",
              "        <path d=\"M19 3H5c-1.1 0-2 .9-2 2v14c0 1.1.9 2 2 2h14c1.1 0 2-.9 2-2V5c0-1.1-.9-2-2-2zM9 17H7v-7h2v7zm4 0h-2V7h2v10zm4 0h-2v-4h2v4z\"/>\n",
              "    </g>\n",
              "</svg>\n",
              "      </button>\n",
              "    </div>\n",
              "\n",
              "<style>\n",
              "  .colab-df-quickchart {\n",
              "    background-color: #E8F0FE;\n",
              "    border: none;\n",
              "    border-radius: 50%;\n",
              "    cursor: pointer;\n",
              "    display: none;\n",
              "    fill: #1967D2;\n",
              "    height: 32px;\n",
              "    padding: 0 0 0 0;\n",
              "    width: 32px;\n",
              "  }\n",
              "\n",
              "  .colab-df-quickchart:hover {\n",
              "    background-color: #E2EBFA;\n",
              "    box-shadow: 0px 1px 2px rgba(60, 64, 67, 0.3), 0px 1px 3px 1px rgba(60, 64, 67, 0.15);\n",
              "    fill: #174EA6;\n",
              "  }\n",
              "\n",
              "  [theme=dark] .colab-df-quickchart {\n",
              "    background-color: #3B4455;\n",
              "    fill: #D2E3FC;\n",
              "  }\n",
              "\n",
              "  [theme=dark] .colab-df-quickchart:hover {\n",
              "    background-color: #434B5C;\n",
              "    box-shadow: 0px 1px 3px 1px rgba(0, 0, 0, 0.15);\n",
              "    filter: drop-shadow(0px 1px 2px rgba(0, 0, 0, 0.3));\n",
              "    fill: #FFFFFF;\n",
              "  }\n",
              "</style>\n",
              "\n",
              "    <script>\n",
              "      async function quickchart(key) {\n",
              "        const containerElement = document.querySelector('#' + key);\n",
              "        const charts = await google.colab.kernel.invokeFunction(\n",
              "            'suggestCharts', [key], {});\n",
              "      }\n",
              "    </script>\n",
              "\n",
              "      <script>\n",
              "\n",
              "function displayQuickchartButton(domScope) {\n",
              "  let quickchartButtonEl =\n",
              "    domScope.querySelector('#df-7d3dfd79-2c30-4ceb-bbaf-abd69bdc1cdb button.colab-df-quickchart');\n",
              "  quickchartButtonEl.style.display =\n",
              "    google.colab.kernel.accessAllowed ? 'block' : 'none';\n",
              "}\n",
              "\n",
              "        displayQuickchartButton(document);\n",
              "      </script>\n",
              "      <style>\n",
              "    .colab-df-container {\n",
              "      display:flex;\n",
              "      flex-wrap:wrap;\n",
              "      gap: 12px;\n",
              "    }\n",
              "\n",
              "    .colab-df-convert {\n",
              "      background-color: #E8F0FE;\n",
              "      border: none;\n",
              "      border-radius: 50%;\n",
              "      cursor: pointer;\n",
              "      display: none;\n",
              "      fill: #1967D2;\n",
              "      height: 32px;\n",
              "      padding: 0 0 0 0;\n",
              "      width: 32px;\n",
              "    }\n",
              "\n",
              "    .colab-df-convert:hover {\n",
              "      background-color: #E2EBFA;\n",
              "      box-shadow: 0px 1px 2px rgba(60, 64, 67, 0.3), 0px 1px 3px 1px rgba(60, 64, 67, 0.15);\n",
              "      fill: #174EA6;\n",
              "    }\n",
              "\n",
              "    [theme=dark] .colab-df-convert {\n",
              "      background-color: #3B4455;\n",
              "      fill: #D2E3FC;\n",
              "    }\n",
              "\n",
              "    [theme=dark] .colab-df-convert:hover {\n",
              "      background-color: #434B5C;\n",
              "      box-shadow: 0px 1px 3px 1px rgba(0, 0, 0, 0.15);\n",
              "      filter: drop-shadow(0px 1px 2px rgba(0, 0, 0, 0.3));\n",
              "      fill: #FFFFFF;\n",
              "    }\n",
              "  </style>\n",
              "\n",
              "      <script>\n",
              "        const buttonEl =\n",
              "          document.querySelector('#df-4ef45539-f280-486f-ae7b-c125bb1b5f5f button.colab-df-convert');\n",
              "        buttonEl.style.display =\n",
              "          google.colab.kernel.accessAllowed ? 'block' : 'none';\n",
              "\n",
              "        async function convertToInteractive(key) {\n",
              "          const element = document.querySelector('#df-4ef45539-f280-486f-ae7b-c125bb1b5f5f');\n",
              "          const dataTable =\n",
              "            await google.colab.kernel.invokeFunction('convertToInteractive',\n",
              "                                                     [key], {});\n",
              "          if (!dataTable) return;\n",
              "\n",
              "          const docLinkHtml = 'Like what you see? Visit the ' +\n",
              "            '<a target=\"_blank\" href=https://colab.research.google.com/notebooks/data_table.ipynb>data table notebook</a>'\n",
              "            + ' to learn more about interactive tables.';\n",
              "          element.innerHTML = '';\n",
              "          dataTable['output_type'] = 'display_data';\n",
              "          await google.colab.output.renderOutput(dataTable, element);\n",
              "          const docLink = document.createElement('div');\n",
              "          docLink.innerHTML = docLinkHtml;\n",
              "          element.appendChild(docLink);\n",
              "        }\n",
              "      </script>\n",
              "    </div>\n",
              "  </div>\n"
            ]
          },
          "metadata": {},
          "execution_count": 66
        }
      ]
    },
    {
      "cell_type": "markdown",
      "source": [
        "**Check Unique Values for each variable.**"
      ],
      "metadata": {
        "id": "8qPCH6SXC0r5"
      }
    },
    {
      "cell_type": "code",
      "source": [
        "df.apply(lambda col : col.unique())\n"
      ],
      "metadata": {
        "colab": {
          "base_uri": "https://localhost:8080/"
        },
        "id": "mb3ummzAC2On",
        "outputId": "404fcf01-a44c-4f66-ffb7-b550386584ba"
      },
      "execution_count": 67,
      "outputs": [
        {
          "output_type": "execute_result",
          "data": {
            "text/plain": [
              "index               [1, 2, 3, 4, 5, 6, 7, 8, 9, 10, 11, 12, 13, 14...\n",
              "Order ID            [171-1029312-3038738, 405-2183842-2225946, 171...\n",
              "Cust ID             [1029312, 2183842, 1641533, 7490807, 9293516, ...\n",
              "Gender                                             [Women, Men, W, M]\n",
              "Age                 [44, 29, 67, 20, 62, 49, 23, 70, 75, 43, 76, 4...\n",
              "Date                [04-12-2022, 04-11-2022, 04-10-2022, 04-09-202...\n",
              "Status                     [Delivered, Refunded, Cancelled, Returned]\n",
              "Channel             [Myntra, Ajio, Amazon, Flipkart, Meesho, Other...\n",
              "SKU                 [JNE1233-BLUE-KR-031-XXL, SET414-KR-NP-L, SET2...\n",
              "Category            [kurta, Set, Western Dress, Top, Saree, Blouse...\n",
              "Size                 [XXL, L, S, M, XL, XS, 3XL, Free, 6XL, 4XL, 5XL]\n",
              "Qty                                         [1, One, 2, 4, 3, Two, 5]\n",
              "currency                                                        [INR]\n",
              "Amount              [376, 1449, 453, 729, 544, 735, 435, 385, 771,...\n",
              "ship-city           [MOHALI, GURUGRAM, KOLKATA, THANJAVUR, SANGLI ...\n",
              "ship-state          [PUNJAB, HARYANA, WEST BENGAL, TAMIL NADU, MAH...\n",
              "ship-postal-code    [140301, 122002, 700029, 613007, 122001, 41643...\n",
              "ship-country                                                     [IN]\n",
              "B2B                                                     [False, True]\n",
              "dtype: object"
            ]
          },
          "metadata": {},
          "execution_count": 67
        }
      ]
    },
    {
      "cell_type": "markdown",
      "source": [
        "## **Data Wrangling**"
      ],
      "metadata": {
        "id": "2g7yTbRQEFLW"
      }
    },
    {
      "cell_type": "markdown",
      "source": [
        "**From the above info it is clear that there is no null values. While checking samples I noticed that some metrics are clean like in gender Men is represented as \"Men\" & \"M\". Let's check them out.**"
      ],
      "metadata": {
        "id": "ZUqTZ2HP6464"
      }
    },
    {
      "cell_type": "code",
      "source": [
        "# checking unique values\n",
        "df['Gender'].value_counts()"
      ],
      "metadata": {
        "colab": {
          "base_uri": "https://localhost:8080/"
        },
        "id": "Phb6uB_s7j34",
        "outputId": "3d5d3b9b-941f-4a13-f28d-7fd5605980c3"
      },
      "execution_count": 339,
      "outputs": [
        {
          "output_type": "execute_result",
          "data": {
            "text/plain": [
              "Women    21479\n",
              "Men       9452\n",
              "W           74\n",
              "M           42\n",
              "Name: Gender, dtype: int64"
            ]
          },
          "metadata": {},
          "execution_count": 339
        }
      ]
    },
    {
      "cell_type": "markdown",
      "source": [
        "**From above, it is clear to better to replace W with Women and M with Men.**"
      ],
      "metadata": {
        "id": "clBk7XGI77zm"
      }
    },
    {
      "cell_type": "code",
      "source": [
        "# replacing values\n",
        "df[\"Gender\"].replace('M','Men', inplace=True)\n",
        "df[\"Gender\"].replace('W','Women', inplace=True)"
      ],
      "metadata": {
        "id": "NHmb39Wz8KhO"
      },
      "execution_count": 340,
      "outputs": []
    },
    {
      "cell_type": "code",
      "source": [
        "df['Gender'].value_counts()"
      ],
      "metadata": {
        "colab": {
          "base_uri": "https://localhost:8080/"
        },
        "id": "N-OhODAF8_Po",
        "outputId": "25da0559-5804-4b48-e26a-90d3b583072e"
      },
      "execution_count": 341,
      "outputs": [
        {
          "output_type": "execute_result",
          "data": {
            "text/plain": [
              "Women    21553\n",
              "Men       9494\n",
              "Name: Gender, dtype: int64"
            ]
          },
          "metadata": {},
          "execution_count": 341
        }
      ]
    },
    {
      "cell_type": "markdown",
      "source": [
        "**Now there is only 2 distinct values in gender column. Now doing same for the Quantity column**"
      ],
      "metadata": {
        "id": "z1ZMWSHd9PUu"
      }
    },
    {
      "cell_type": "code",
      "source": [
        "# checking unique values\n",
        "df['Qty'].value_counts()"
      ],
      "metadata": {
        "colab": {
          "base_uri": "https://localhost:8080/"
        },
        "id": "5a3WJ30R9wvO",
        "outputId": "4de66363-ef28-411b-cf7d-950b3699d65a"
      },
      "execution_count": 342,
      "outputs": [
        {
          "output_type": "execute_result",
          "data": {
            "text/plain": [
              "1      30878\n",
              "2        114\n",
              "3         19\n",
              "Two       16\n",
              "One       13\n",
              "4          6\n",
              "5          1\n",
              "Name: Qty, dtype: int64"
            ]
          },
          "metadata": {},
          "execution_count": 342
        }
      ]
    },
    {
      "cell_type": "markdown",
      "source": [
        "**From above, it is clear to better to replace Two with 2 and One with 1.**"
      ],
      "metadata": {
        "id": "g80ewZvP-DD0"
      }
    },
    {
      "cell_type": "code",
      "source": [
        "# replacing values\n",
        "df[\"Qty\"].replace('One','1', inplace=True)\n",
        "df[\"Qty\"].replace('Two', '2', inplace=True)"
      ],
      "metadata": {
        "id": "m3OVQGkq-MJT"
      },
      "execution_count": 343,
      "outputs": []
    },
    {
      "cell_type": "code",
      "source": [
        "df['Qty'].value_counts()"
      ],
      "metadata": {
        "colab": {
          "base_uri": "https://localhost:8080/"
        },
        "id": "LzJQ0WdL-MDL",
        "outputId": "2193f784-b308-4b97-9de7-302b93f3f530"
      },
      "execution_count": 131,
      "outputs": [
        {
          "output_type": "execute_result",
          "data": {
            "text/plain": [
              "1    30891\n",
              "2      130\n",
              "3       19\n",
              "4        6\n",
              "5        1\n",
              "Name: Qty, dtype: int64"
            ]
          },
          "metadata": {},
          "execution_count": 131
        }
      ]
    },
    {
      "cell_type": "markdown",
      "source": [
        "**Duplicate Values**"
      ],
      "metadata": {
        "id": "_vhmASmq_fxT"
      }
    },
    {
      "cell_type": "code",
      "source": [
        "# checking duplicate values\n",
        "df.duplicated().sum()"
      ],
      "metadata": {
        "colab": {
          "base_uri": "https://localhost:8080/"
        },
        "id": "rdMSxHpv_j4D",
        "outputId": "140a67ca-8613-48e4-81b1-2b9a71b04d7e"
      },
      "execution_count": 344,
      "outputs": [
        {
          "output_type": "execute_result",
          "data": {
            "text/plain": [
              "0"
            ]
          },
          "metadata": {},
          "execution_count": 344
        }
      ]
    },
    {
      "cell_type": "code",
      "source": [
        "# Remove Duplicates:\n",
        "# df.drop_duplicates(inplace=True)"
      ],
      "metadata": {
        "id": "IkhR0vWP_-cy"
      },
      "execution_count": null,
      "outputs": []
    },
    {
      "cell_type": "markdown",
      "source": [
        "**I think there is clean data now. Now it would be good if we drop some colums which is not useful for data analysis**"
      ],
      "metadata": {
        "id": "rhBaHlh8_Cdk"
      }
    },
    {
      "cell_type": "code",
      "source": [
        "# checking unique values\n",
        "df['currency'].value_counts()"
      ],
      "metadata": {
        "colab": {
          "base_uri": "https://localhost:8080/"
        },
        "id": "yTSY1Ntk_UC7",
        "outputId": "29168bcb-1e42-40c7-ad39-d597e72f0394"
      },
      "execution_count": 345,
      "outputs": [
        {
          "output_type": "execute_result",
          "data": {
            "text/plain": [
              "INR    31047\n",
              "Name: currency, dtype: int64"
            ]
          },
          "metadata": {},
          "execution_count": 345
        }
      ]
    },
    {
      "cell_type": "markdown",
      "source": [
        "**As there is only one currency, so dropping the column \"Currency\" and dropping the postal code as well, as the state, city is already mentioned.**"
      ],
      "metadata": {
        "id": "tSfpmBqrAfp0"
      }
    },
    {
      "cell_type": "code",
      "source": [
        "df.drop(['currency'], axis = 1, inplace=True)\n",
        "df.drop(['ship-postal-code'], axis = 1, inplace=True)"
      ],
      "metadata": {
        "id": "ng9c-XBhA8GJ"
      },
      "execution_count": 346,
      "outputs": []
    },
    {
      "cell_type": "markdown",
      "source": [
        "**Change in datatype for required columns**"
      ],
      "metadata": {
        "id": "ry2akgOWERwd"
      }
    },
    {
      "cell_type": "code",
      "source": [
        "# change datatype\n",
        "df['Qty'] = df['Qty'] .astype('int64') # changing to integer\n",
        "df['Date'] = df['Date'].apply(lambda x: datetime.strptime(x,\"%d-%m-%Y\")) # changing to datetime"
      ],
      "metadata": {
        "id": "IUDUqvIZETAl"
      },
      "execution_count": 347,
      "outputs": []
    },
    {
      "cell_type": "markdown",
      "source": [
        "**Categorizing age in different age group for better analysis**"
      ],
      "metadata": {
        "id": "0zDCdnAnGwXF"
      }
    },
    {
      "cell_type": "code",
      "source": [
        "def categorize_age(age):\n",
        "    if age > 50:\n",
        "        return \"Senior\"\n",
        "    elif age > 30:\n",
        "        return \"Adult\"\n",
        "    else:\n",
        "        return \"Teenager\"\n",
        "\n",
        "# Apply the function to create a new column 'AgeGroup'\n",
        "df['AgeGroup'] = df['Age'].apply(categorize_age)\n",
        "\n",
        "print(df)\n"
      ],
      "metadata": {
        "colab": {
          "base_uri": "https://localhost:8080/"
        },
        "id": "hPWwZqZ7GqgT",
        "outputId": "78091afe-783d-43c3-ef04-c9d16a20d417"
      },
      "execution_count": 349,
      "outputs": [
        {
          "output_type": "stream",
          "name": "stdout",
          "text": [
            "       index             Order ID  Cust ID Gender  Age       Date     Status  \\\n",
            "0          1  171-1029312-3038738  1029312  Women   44 2022-12-04  Delivered   \n",
            "1          2  405-2183842-2225946  2183842  Women   29 2022-12-04  Delivered   \n",
            "2          3  171-1641533-8921966  1641533  Women   67 2022-12-04  Delivered   \n",
            "3          4  404-7490807-6300351  7490807  Women   20 2022-12-04  Delivered   \n",
            "4          5  403-9293516-4577154  9293516  Women   62 2022-12-04  Delivered   \n",
            "...      ...                  ...      ...    ...  ...        ...        ...   \n",
            "31042  31043  405-4724097-1016369  4724097    Men   60 2022-01-06  Delivered   \n",
            "31043  31044  405-4724097-1016369  4724097    Men   34 2022-01-06  Delivered   \n",
            "31044  31045  408-3572295-5992330  3572295    Men   29 2022-01-06  Delivered   \n",
            "31045  31046  405-1423498-9705162  1423498    Men   46 2022-01-06  Delivered   \n",
            "31046  31047  408-4694875-8249153  4694875    Men   36 2022-01-06  Delivered   \n",
            "\n",
            "       Channel                       SKU       Category Size  Qty  Amount  \\\n",
            "0        Myntra  JNE1233-BLUE-KR-031-XXL          kurta  XXL    1     376   \n",
            "1          Ajio           SET414-KR-NP-L            Set    L    1    1449   \n",
            "2        Myntra           SET261-KR-PP-S            Set    S    1     453   \n",
            "3        Amazon           SET110-KR-PP-M            Set    M    1     729   \n",
            "4        Myntra         JNE2294-KR-A-XXL          kurta  XXL    1     544   \n",
            "...         ...                      ...            ...  ...  ...     ...   \n",
            "31042  Flipkart              J0083-KR-XL          kurta   XL    1     565   \n",
            "31043    Myntra              J0010-LCD-S            Set    S    1     939   \n",
            "31044    Amazon           SET398-KR-PP-L            Set    L    1    1115   \n",
            "31045    Amazon             JNE3568-KR-M          kurta    M    1     399   \n",
            "31046  Flipkart            J0341-DR-XXXL  Western Dress  3XL    1     791   \n",
            "\n",
            "         ship-city   ship-state ship-country    B2B  AgeGroup  \n",
            "0           MOHALI       PUNJAB           IN  False     Adult  \n",
            "1         GURUGRAM      HARYANA           IN  False  Teenager  \n",
            "2          KOLKATA  WEST BENGAL           IN  False    Senior  \n",
            "3        THANJAVUR   TAMIL NADU           IN  False  Teenager  \n",
            "4         GURUGRAM      HARYANA           IN  False    Senior  \n",
            "...            ...          ...          ...    ...       ...  \n",
            "31042         PUNE  MAHARASHTRA           IN  False    Senior  \n",
            "31043    BENGALURU    KARNATAKA           IN  False     Adult  \n",
            "31044  PITHORAGARH  UTTARAKHAND           IN  False  Teenager  \n",
            "31045        DHULE  MAHARASHTRA           IN  False     Adult  \n",
            "31046     WARANGAL    TELANGANA           IN  False     Adult  \n",
            "\n",
            "[31047 rows x 18 columns]\n"
          ]
        }
      ]
    },
    {
      "cell_type": "code",
      "source": [
        "# checking if the the data of one year or multiple years\n",
        "df['Date'].dt.year.value_counts()"
      ],
      "metadata": {
        "colab": {
          "base_uri": "https://localhost:8080/"
        },
        "id": "VKFFgstRKQIb",
        "outputId": "e463cdf2-01a3-4a64-e293-dab0307bc41f"
      },
      "execution_count": 350,
      "outputs": [
        {
          "output_type": "execute_result",
          "data": {
            "text/plain": [
              "2022    31047\n",
              "Name: Date, dtype: int64"
            ]
          },
          "metadata": {},
          "execution_count": 350
        }
      ]
    },
    {
      "cell_type": "markdown",
      "source": [
        "**As the year is only 2022, so making a column \"Month\" for better Analysis**"
      ],
      "metadata": {
        "id": "gnTQzUqhKoaw"
      }
    },
    {
      "cell_type": "code",
      "source": [
        "df['Month'] = df['Date'].dt.month\n"
      ],
      "metadata": {
        "id": "t5AW4rjcLS7G"
      },
      "execution_count": 351,
      "outputs": []
    },
    {
      "cell_type": "markdown",
      "source": [
        "**There is an extra space in the name of the column, replacing it with the correct name (without space)**"
      ],
      "metadata": {
        "id": "Lq8Zq-ZZmMb4"
      }
    },
    {
      "cell_type": "code",
      "source": [
        "# renaming the column name\n",
        "df.rename(columns={\"Channel \":\"Channel\"}, inplace=True)"
      ],
      "metadata": {
        "id": "V-_YHrAxmY_6"
      },
      "execution_count": 352,
      "outputs": []
    },
    {
      "cell_type": "markdown",
      "source": [
        "## **Data Vizualization**"
      ],
      "metadata": {
        "id": "lvYQQtovPaA0"
      }
    },
    {
      "cell_type": "code",
      "source": [
        "# Chart-1\n",
        "# Counting sales on the basis of gender\n",
        "highest_gender_sales = df.groupby('Gender', as_index=False)['Amount'].sum().rename(columns={'Amount':'Total Sales'})\n",
        "plt.pie(highest_gender_sales['Total Sales'], labels=highest_gender_sales[\"Gender\"], shadow=True,autopct='%1.1f%%')\n",
        "plt.title(\"Gender Sales\")\n",
        "plt.show()\n"
      ],
      "metadata": {
        "colab": {
          "base_uri": "https://localhost:8080/",
          "height": 428
        },
        "id": "L_MJotq1PhFq",
        "outputId": "3c0a8e59-c602-4ae0-bf07-9de86772b5c1"
      },
      "execution_count": 353,
      "outputs": [
        {
          "output_type": "display_data",
          "data": {
            "text/plain": [
              "<Figure size 640x480 with 1 Axes>"
            ],
            "image/png": "[encoded data removed]"
          },
          "metadata": {}
        }
      ]
    },
    {
      "cell_type": "code",
      "source": [
        "# Chart-2\n",
        "# Counting sales on the basis of states\n",
        "plt.figure(figsize=(15,8))\n",
        "plt.xlabel('State')\n",
        "plt.ylabel('Sales',fontsize=12)\n",
        "colors = ['Pink', 'yellow', 'lightblue', 'orange', 'lightgreen']\n",
        "plt.title(\"Top 5 States with the Highest Sales\")\n",
        "highest_state_sales = df.groupby('ship-state', as_index=False)['Amount'].sum().sort_values('Amount',ascending=False).rename(columns={'Amount':'Total Sales'})[:5]\n",
        "plt.barh(highest_state_sales['ship-state'], highest_state_sales['Total Sales'], color= colors)\n",
        "plt.show()"
      ],
      "metadata": {
        "colab": {
          "base_uri": "https://localhost:8080/",
          "height": 670
        },
        "id": "7uUZJF_yVRnF",
        "outputId": "08c1b537-7019-4edc-abf1-d8e686268ba7"
      },
      "execution_count": 354,
      "outputs": [
        {
          "output_type": "display_data",
          "data": {
            "text/plain": [
              "<Figure size 1500x800 with 1 Axes>"
            ],
            "image/png": "[encoded data removed]"
          },
          "metadata": {}
        }
      ]
    },
    {
      "cell_type": "code",
      "source": [
        "# Chart-3\n",
        "# Order Status\n",
        "Order_stats = df.groupby('Status')['Status'].count()\n",
        "colors = ['orange', 'lightblue', 'yellow', 'lightgreen']\n",
        "plt.pie(Order_stats, shadow=True,autopct='%1.1f%%', colors=colors)\n",
        "plt.title(\"Order Status\")\n",
        "plt.legend(Order_stats.index)\n",
        "plt.show()"
      ],
      "metadata": {
        "colab": {
          "base_uri": "https://localhost:8080/",
          "height": 428
        },
        "id": "asWzt8TjfltK",
        "outputId": "ff257f5d-f6c9-4806-8458-5db80ac8a631"
      },
      "execution_count": 355,
      "outputs": [
        {
          "output_type": "display_data",
          "data": {
            "text/plain": [
              "<Figure size 640x480 with 1 Axes>"
            ],
            "image/png": "[encoded data removed]"
          },
          "metadata": {}
        }
      ]
    },
    {
      "cell_type": "code",
      "source": [
        "# Chart-4\n",
        "# Orders On the Basis of Age Group\n",
        "plt.figure(figsize=(11,7))\n",
        "colors = [\"#5F4B8BFF\", \"#E69A8DFF\"]\n",
        "#  plot with countplot\n",
        "sns.countplot(x=df['AgeGroup'], hue = df['Gender'], palette=colors)\n",
        "plt.title(\"Age Group Wise Sales\")\n",
        "plt.xlabel('Age Group')\n",
        "plt.ylabel('Sales')\n",
        "plt.show()\n"
      ],
      "metadata": {
        "colab": {
          "base_uri": "https://localhost:8080/",
          "height": 641
        },
        "id": "wUAsYvY3hnlI",
        "outputId": "abfb3fe0-938a-4698-e97b-14a7bed2d732"
      },
      "execution_count": 356,
      "outputs": [
        {
          "output_type": "display_data",
          "data": {
            "text/plain": [
              "<Figure size 1100x700 with 1 Axes>"
            ],
            "image/png": "[encoded data removed]"
          },
          "metadata": {}
        }
      ]
    },
    {
      "cell_type": "code",
      "source": [
        "# Chart-5\n",
        "# Channel Sales\n",
        "Channel_sales = df.groupby(\"Channel\", as_index=False)['Amount'].sum().sort_values('Amount', ascending = False)\n",
        "plt.figure(figsize=(20,8))\n",
        "plt.xlabel('Channels')\n",
        "plt.ylabel(\"Sales\")\n",
        "plt.title(\"Different Channel Sales\")\n",
        "sns.barplot(x=Channel_sales[\"Channel\"], y=Channel_sales[\"Amount\"])\n",
        "plt.show()"
      ],
      "metadata": {
        "colab": {
          "base_uri": "https://localhost:8080/",
          "height": 557
        },
        "id": "xrigs60amtSj",
        "outputId": "f518ac23-930a-4df1-aa92-b6f8c880941c"
      },
      "execution_count": 357,
      "outputs": [
        {
          "output_type": "display_data",
          "data": {
            "text/plain": [
              "<Figure size 2000x800 with 1 Axes>"
            ],
            "image/png": "[encoded data removed]"
          },
          "metadata": {}
        }
      ]
    },
    {
      "cell_type": "markdown",
      "source": [
        "# **Insights**\n",
        "1. March witnessed the peak in sales, excluding any transactions that were refunded, returned, or canceled.\n",
        "2. Women contributed to 64% of the total sales.\n",
        "3. A significant 92% of the total sales were successfully delivered, while the remaining were either refunded, returned, or canceled.\n",
        "4. Among the regions, Maharashtra had the highest sales value, followed by Karnataka, Uttar Pradesh, Telangana, and Tamil Nadu.\n",
        "5. Women between the ages of 30 to 49 showed the highest participation in total sales, accounting for 30% of the overall sales.\n",
        "6. Amazon led the way with 35.51% of total sales, followed by Myntra and Flipkart.\n",
        "7. Men were the primary consumers of Western dress, making up 89% of the purchases. Additionally, August recorded the highest sales month.\n"
      ],
      "metadata": {
        "id": "FksUYOC-wqER"
      }
    },
    {
      "cell_type": "markdown",
      "source": [
        "# **Suggestions**\n",
        "1. I suggest targeting the women customer within the age group of 30 to 49 from the states of Maharashtra, Karnataka & Uttar Pradesh. It would be great if you target the suggested audience through coupons/ads on  Amazon, Myntra & Flipkart.\n",
        "\n",
        "2. I suggest to perform marketing strategises on the Men Audience for the Western Dress Products\n",
        "\n"
      ],
      "metadata": {
        "id": "NssNsRP6w0F5"
      }
    }
  ]
}